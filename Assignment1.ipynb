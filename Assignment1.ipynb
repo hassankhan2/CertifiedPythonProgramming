{
 "cells": [
  {
   "cell_type": "markdown",
   "metadata": {},
   "source": [
    "# Assignmnet # 1"
   ]
  },
  {
   "cell_type": "code",
   "execution_count": 7,
   "metadata": {},
   "outputs": [
    {
     "name": "stdout",
     "output_type": "stream",
     "text": [
      "Twinkle, twinkle, little star,\n",
      "How I wonder what you are! \n",
      "Up above the world so high,\n",
      "Like a diamond in the sky.\n",
      "\n",
      "Twinkle, twinkle, little star,\n",
      "How I wonder what you are\n"
     ]
    }
   ],
   "source": [
    "# 1. Write a Python program to print the following string in a specific format (see the\n",
    "# output).\n",
    "\n",
    "# Twinkle, twinkle, little star,\n",
    "# How I wonder what you are!\n",
    "# Up above the world so high,\n",
    "# Like a diamond in the sky.\n",
    "\n",
    "# Twinkle, twinkle, little star,\n",
    "# How I wonder what you are\n",
    "\n",
    "\n",
    "#solution:\n",
    "print(\"Twinkle, twinkle, little star,\\nHow I wonder what you are! \\nUp above the world so high,\\nLike a diamond in the sky.\\n\\nTwinkle, twinkle, little star,\\nHow I wonder what you are\")\n",
    "\n",
    "\n"
   ]
  },
  {
   "cell_type": "code",
   "execution_count": 2,
   "metadata": {},
   "outputs": [
    {
     "name": "stdout",
     "output_type": "stream",
     "text": [
      "Python 3.8.5\n"
     ]
    }
   ],
   "source": [
    "#2. Write a Python program to get the Python version you are using\n",
    "\n",
    "#solution:\n",
    "!python --version"
   ]
  },
  {
   "cell_type": "code",
   "execution_count": 6,
   "metadata": {},
   "outputs": [
    {
     "name": "stdout",
     "output_type": "stream",
     "text": [
      "Current date and time : \n",
      "2021-10-23 01:09:55\n"
     ]
    }
   ],
   "source": [
    "#3. Write a Python program to display the current date and time.\n",
    "\n",
    "\n",
    "#solution:\n",
    "import datetime\n",
    "now = datetime.datetime.now()\n",
    "print (\"Current date and time : \")\n",
    "print (now.strftime(\"%Y-%m-%d %H:%M:%S\"))\n"
   ]
  },
  {
   "cell_type": "code",
   "execution_count": 12,
   "metadata": {},
   "outputs": [
    {
     "name": "stdout",
     "output_type": "stream",
     "text": [
      "Enter a radius of a circle? 20\n",
      "The area of a circle is: 1256.8\n"
     ]
    }
   ],
   "source": [
    "# 4. Write a Python program which accepts the radius of a circle from the user and compute\n",
    "# the area.\n",
    "\n",
    "\n",
    "#solution:\n",
    "radiusOfCircle = int(input('Enter a radius of a circle? '))\n",
    "area = 3.142 * (radiusOfCircle * radiusOfCircle)\n",
    "print('The area of a circle is: '+str(area))"
   ]
  },
  {
   "cell_type": "code",
   "execution_count": 6,
   "metadata": {},
   "outputs": [
    {
     "name": "stdout",
     "output_type": "stream",
     "text": [
      "Enter your first name? hassan\n",
      "Enter your last name? khan\n"
     ]
    },
    {
     "data": {
      "text/plain": [
       "'hassan khan'"
      ]
     },
     "execution_count": 6,
     "metadata": {},
     "output_type": "execute_result"
    }
   ],
   "source": [
    "# 5. Write a Python program which accepts the user's first and last name and print them in\n",
    "# reverse order with a space between them.\n",
    "\n",
    "\n",
    "#solution: \n",
    "# firstName = input('Enter your first name? ')\n",
    "# lastName = input('Enter your last name? ')\n",
    "# fullName = firstName + ' ' + lastName\n",
    "# listname = [fullName]\n",
    "# listname[0]\n"
   ]
  },
  {
   "cell_type": "code",
   "execution_count": 8,
   "metadata": {},
   "outputs": [
    {
     "name": "stdout",
     "output_type": "stream",
     "text": [
      "enter first name hasan\n",
      "enter last name khan\n",
      "hasankhan\n"
     ]
    }
   ],
   "source": [
    "first = input('enter first name ')\n",
    "last = input('enter last name ')\n",
    "fullname = first + last\n",
    "print(fullname)"
   ]
  },
  {
   "cell_type": "code",
   "execution_count": 9,
   "metadata": {},
   "outputs": [],
   "source": [
    "name = [fullname] "
   ]
  },
  {
   "cell_type": "code",
   "execution_count": 10,
   "metadata": {},
   "outputs": [
    {
     "name": "stdout",
     "output_type": "stream",
     "text": [
      "['hasankhan']\n"
     ]
    }
   ],
   "source": [
    "print(name)"
   ]
  },
  {
   "cell_type": "code",
   "execution_count": 16,
   "metadata": {},
   "outputs": [
    {
     "name": "stdout",
     "output_type": "stream",
     "text": [
      "Enter number 1? 2\n",
      "Enter number 2? 2\n",
      "4\n"
     ]
    }
   ],
   "source": [
    "#6. Write a python program which takes two inputs from user and print them addition\n",
    "\n",
    "\n",
    "#solution:\n",
    "input1 = int(input('Enter number 1? '))\n",
    "input2 = int(input('Enter number 2? '))\n",
    "print(input1 + input2)"
   ]
  },
  {
   "cell_type": "code",
   "execution_count": 19,
   "metadata": {},
   "outputs": [
    {
     "name": "stdout",
     "output_type": "stream",
     "text": [
      "Enter marks of ISLAMIAT? \n",
      "60\n",
      "Enter marks of MATHS? \n",
      "60\n",
      "Enter marks of PHYSICS? \n",
      "80\n",
      "Enter marks of CHEMISTRY? \n",
      "50\n",
      "Enter marks of COMPUTER? \n",
      "60\n",
      "B\n",
      "Marks of Islamiat is: 60\n",
      "Marks of Maths is: 60\n",
      "Marks of Physics is: 80\n",
      "Marks of Chemistry is: 50\n",
      "Marks of Computer is: 60\n",
      "Your Total marks is: 310\n",
      "Your Achieved grade is: 62.0\n"
     ]
    }
   ],
   "source": [
    "# 7. Write a program which takes 5 inputs from user for different subject’s marks, total it\n",
    "# and generate mark sheet using grades ?\n",
    "\n",
    "\n",
    "\n",
    "#solution:\n",
    "isl = int(input('Enter marks of ISLAMIAT? \\n'))\n",
    "maths = int(input('Enter marks of MATHS? \\n'))\n",
    "physics = int(input('Enter marks of PHYSICS? \\n'))\n",
    "chemistry = int(input('Enter marks of CHEMISTRY? \\n'))\n",
    "computer = int(input('Enter marks of COMPUTER? \\n'))\n",
    "totalMarks = isl + maths + physics + chemistry + computer\n",
    "grade = totalMarks / 500 * 100\n",
    "\n",
    "if grade <= 100 and grade >= 80:\n",
    "    print('A1')\n",
    "elif grade <= 79 and grade >= 70:\n",
    "    print('A')\n",
    "elif grade <= 69 and grade >= 60:\n",
    "    print('B')\n",
    "elif grade <= 59 and grade >= 50:\n",
    "    print('C')\n",
    "elif grade <= 49 and grade >= 40:\n",
    "    print('D')\n",
    "elif grade <= 39 and grade >= 33:\n",
    "    print('E')\n",
    "elif grade <= 32:\n",
    "    print('F')\n",
    "else:\n",
    "    print('write again your marks')\n",
    "\n",
    "\n",
    "print('Marks of Islamiat is: '+ str(isl))\n",
    "print('Marks of Maths is: '+ str(maths))\n",
    "print('Marks of Physics is: '+ str(physics))\n",
    "print('Marks of Chemistry is: '+ str(chemistry))\n",
    "print('Marks of Computer is: '+ str(computer))\n",
    "print('Your Total marks is: '+ str(totalMarks))\n",
    "print('Your Achieved grade is: '+ str(grade))    "
   ]
  },
  {
   "cell_type": "code",
   "execution_count": 30,
   "metadata": {},
   "outputs": [
    {
     "name": "stdout",
     "output_type": "stream",
     "text": [
      "Enter a number? \n",
      "3\n",
      "3 is odd number\n"
     ]
    }
   ],
   "source": [
    "# 8. Write a program which take input from user and identify that the given number is even\n",
    "# or odd?\n",
    "\n",
    "\n",
    "\n",
    "#solution:\n",
    "num = int(input('Enter a number? \\n'))\n",
    "\n",
    "\n",
    "if (num % 2) == 0:\n",
    "    print(str(num) + ' is even number')\n",
    "else:\n",
    "    print(str(num) + ' is odd number')\n"
   ]
  },
  {
   "cell_type": "code",
   "execution_count": 7,
   "metadata": {},
   "outputs": [
    {
     "name": "stdout",
     "output_type": "stream",
     "text": [
      "The length of the list is: 5\n"
     ]
    }
   ],
   "source": [
    "#9. Write a program which print the length of the list?\n",
    "\n",
    "\n",
    "#solution:\n",
    "listitem = [2, 'sandwich', 4.5, 'marshmallow', 'lollypop']\n",
    "lengthOfList = len(listitem)\n",
    "print('The length of the list is: ' + str(lengthOfList))"
   ]
  },
  {
   "cell_type": "code",
   "execution_count": 8,
   "metadata": {},
   "outputs": [],
   "source": [
    "#10.Write a Python program to sum all the numeric items in a list?\n",
    "\n",
    "\n",
    "\n",
    "#solution:\n",
    "listofitem = [2,3,'apple', 4, 'mango', 'orange', 6, 8]\n"
   ]
  },
  {
   "cell_type": "code",
   "execution_count": 11,
   "metadata": {},
   "outputs": [
    {
     "name": "stdout",
     "output_type": "stream",
     "text": [
      "Largest number in the list: 89\n"
     ]
    }
   ],
   "source": [
    "# 11.Write a Python program to get the largest number from a numeric list.\n",
    "\n",
    "\n",
    "\n",
    "#solution:\n",
    "x = [1, 1, 2, 3, 5, 8, 13, 21, 34, 55, 89]\n",
    "b = max(x)\n",
    "print('Largest number in the list: '+ str(b))"
   ]
  },
  {
   "cell_type": "code",
   "execution_count": 14,
   "metadata": {},
   "outputs": [
    {
     "data": {
      "text/plain": [
       "2"
      ]
     },
     "execution_count": 14,
     "metadata": {},
     "output_type": "execute_result"
    }
   ],
   "source": [
    "# 12. Take a list, say for example this one:\n",
    "# a = [1, 1, 2, 3, 5, 8, 13, 21, 34, 55, 89]\n",
    "# Write a program that prints out all the elements of the list that are less than 5.\n",
    "\n",
    "\n",
    "\n",
    "#solution:\n",
    "a = [1, 1, 2, 3, 5, 8, 13, 21, 34, 55, 89]\n",
    "a.count(1)"
   ]
  },
  {
   "cell_type": "code",
   "execution_count": null,
   "metadata": {},
   "outputs": [],
   "source": []
  }
 ],
 "metadata": {
  "kernelspec": {
   "display_name": "Python 3",
   "language": "python",
   "name": "python3"
  },
  "language_info": {
   "codemirror_mode": {
    "name": "ipython",
    "version": 3
   },
   "file_extension": ".py",
   "mimetype": "text/x-python",
   "name": "python",
   "nbconvert_exporter": "python",
   "pygments_lexer": "ipython3",
   "version": "3.8.8"
  }
 },
 "nbformat": 4,
 "nbformat_minor": 4
}
